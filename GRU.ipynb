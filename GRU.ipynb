{
 "cells": [
  {
   "cell_type": "code",
   "execution_count": 1,
   "metadata": {},
   "outputs": [],
   "source": [
    "import torch\n",
    "import torch.nn as nn\n",
    "import numpy as np\n",
    "import torch.nn.functional as F"
   ]
  },
  {
   "cell_type": "markdown",
   "metadata": {},
   "source": [
    "# GRU\n",
    "<img src=\"https://velog.velcdn.com/images%2Fguide333%2Fpost%2F5c9b1e3c-86c4-481a-99b3-49457f6aa362%2FScreenshot%20from%202021-04-24%2016-45-38.png\">\n",
    "\n",
    "\n",
    "+ GRU_Cell\n",
    "    + input_size : input data의 size (embedding을 할 경우 embedding의 size이다)\n",
    "    + hidden_size : hidden state의 차원 수\n",
    "    + bias : 각 식의 존재하는 편향 값\n",
    "\n",
    "\n",
    "+ if x 가 m*n의 차원이면 h차원가 맞게 weight를 곱하여 m*h의 차원으로 변경한다.\n",
    "+ Weight가 x2x 2개 x2h 2개가 필요하므로 각각 한번에 2개를 만들어서 잘라서 사용\n",
    "+ 데이터 example을 시계열 데이터로 사용 [batch, sequece, variable] 3차원 데이터\n",
    "+ GRU 계산에서는 행렬 계산 뿐만 아니라 행렬 요소 곱도 포함 된다.\n",
    "+ candiate r_t ,h_t-1의 행렬요소 곱을 위해 size를 hidden size로 맞춰주어야 한다\n",
    "+ hidden_state 차원 [batch, Layer, hidden]"
   ]
  },
  {
   "cell_type": "code",
   "execution_count": 2,
   "metadata": {},
   "outputs": [],
   "source": [
    "class GRU_Cell(nn.Module):\n",
    "    def __init__(self,input_size,hidden_size,bias=True):\n",
    "        super().__init__()\n",
    "        self.input_size=input_size\n",
    "        self.hidden_size=hidden_size\n",
    "        self.bias=bias\n",
    "        self.x2h=nn.Linear(input_size,hidden_size*2,bias=bias)\n",
    "        self.h2h=nn.Linear(hidden_size,hidden_size*2,bias=bias)\n",
    "        self.x2c=nn.Linear(input_size,hidden_size,bias=bias)\n",
    "        self.c2c=nn.Linear(hidden_size,hidden_size,bias=bias)\n",
    "    def forward(self,x,hidden_state):\n",
    "        # x : [batch, variable]\n",
    "        gates=self.x2h(x)+self.h2h(hidden_state)\n",
    "        update_gate,reset_gate=gates.chunk(2,dim=1)\n",
    "        candidate=torch.mul(reset_gate,hidden_state)\n",
    "        \n",
    "        \n",
    "        candidate_Hidden_state=F.tanh(self.x2c(x)+self.x2h(torch.mul(reset_gate,hidden_state)))\n",
    "        \n",
    "        hidden_state=torch.mul(update_gate,hidden_state)+torch.mul((1-update_gate),candidate_Hidden_state)\n",
    "        \n",
    "        return hidden_state\n",
    "\n",
    "        \n",
    "        "
   ]
  },
  {
   "cell_type": "markdown",
   "metadata": {},
   "source": [
    "# Multi_Layer\n",
    "\n",
    "+ Mult_layer 적용 시 2번 째 cell부터는 입력의 차원이 [batch, hidden_size]이므로 선언을 새로 해주어야 한다.\n",
    "\n",
    "+ Layer 수만큼 반복하면서 각 계층 별 hidden_state를 저장한 후에 다음 시점으로 보내주어야 한다."
   ]
  },
  {
   "cell_type": "code",
   "execution_count": 3,
   "metadata": {},
   "outputs": [],
   "source": [
    "class GRU_Model(nn.Module):\n",
    "    def __init__(self,input_dim,hidden_dim,output_dim,Layer_num=1) :\n",
    "        super().__init__()\n",
    "        self.input_dim=input_dim\n",
    "        self.hidden_dim=hidden_dim\n",
    "        self.output_dim=output_dim\n",
    "        self.Layer_num=Layer_num\n",
    "        self.GRU_Cell=GRU_Cell(input_dim,hidden_dim)\n",
    "        self.fc1=nn.Linear(hidden_dim,output_dim)\n",
    "        self.GRU_MultiLayer=GRU_Cell(hidden_dim,hidden_dim)\n",
    "    \n",
    "    \n",
    "    def forward(self,x):\n",
    "        # x [batch,seq,variable]\n",
    "        # hidden_state [batch,Layer_num,hidden_dim]\n",
    "        cyc=x.size(1)\n",
    "        hidden_state=torch.zeros(x.size(0),self.Layer_num,self.hidden_dim)\n",
    "        if self.Layer_num==1:\n",
    "            # hidden_state [batch,1,hidden_dim]\n",
    "            hidden_state.squeeze()\n",
    "            # hidden_state [batch,hidden_dim]\n",
    "            for seq in range(cyc):\n",
    "                hidden_state=self.GRU_Cell(x,hidden_state)\n",
    "            out_put=hidden_state\n",
    "        else:\n",
    "            # hidden_state [batch,Layer_num,hidden_dim]\n",
    "            for seq in range(cyc):\n",
    "                hidden_state[:,0,:]=self.GRU_Cell(x,hidden_state[:,0,:])\n",
    "                for i in range(self.Layer_num-1):\n",
    "                    hidden_state[:,i+1,:]=self.GRU_MultiLayer(hidden_state[:,i,:],hidden_state[:,i+1,:])\n",
    "            output=hidden_state[:,-1,:]\n",
    "         \n",
    "        out_put=self.fc1(out_put)\n",
    "        return out_put   \n",
    "    "
   ]
  }
 ],
 "metadata": {
  "kernelspec": {
   "display_name": "Python 3.9.12 ('forpytorch')",
   "language": "python",
   "name": "python3"
  },
  "language_info": {
   "codemirror_mode": {
    "name": "ipython",
    "version": 3
   },
   "file_extension": ".py",
   "mimetype": "text/x-python",
   "name": "python",
   "nbconvert_exporter": "python",
   "pygments_lexer": "ipython3",
   "version": "3.9.12"
  },
  "orig_nbformat": 4,
  "vscode": {
   "interpreter": {
    "hash": "e142c631c90029d590b66e5d4b447237bff44b182aad6284fd72863ce8560c1d"
   }
  }
 },
 "nbformat": 4,
 "nbformat_minor": 2
}
