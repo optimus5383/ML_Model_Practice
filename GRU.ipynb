{
 "cells": [
  {
   "cell_type": "code",
   "execution_count": null,
   "metadata": {},
   "outputs": [],
   "source": [
    "import torch\n",
    "import torch.nn as nn\n",
    "import numpy as np\n",
    "import torch.nn.functional as F"
   ]
  },
  {
   "cell_type": "markdown",
   "metadata": {},
   "source": [
    "# LSTM\n",
    "<img src=\"https://velog.velcdn.com/images%2Fguide333%2Fpost%2F5c9b1e3c-86c4-481a-99b3-49457f6aa362%2FScreenshot%20from%202021-04-24%2016-45-38.png\">\n",
    "\n",
    "\n",
    "+ GRU_Cell\n",
    "    + input_size : input data의 size (embedding을 할 경우 embedding의 size이다)\n",
    "    + hidden_size : hidden state의 차원 수\n",
    "    + bias : 각 식의 존재하는 편향 값\n",
    "\n",
    "\n",
    "+ if x 가 m*n의 차원이면 h차원가 맞게 weight를 곱하여 m*h의 차원으로 변경한다.\n",
    "+ Weight가 x2x 2개 x2h 2개가 필요하므로 각각 한번에 2개를 만들어서 잘라서 사용\n",
    "+ 데이터 example을 시계열 데이터로 사용 [batch, sequece, variable] 3차원 데이터\n",
    "+ GRU 계산에서는 행렬 계산 뿐만 아니라 행렬 요소 곱도 포함 된다.\n",
    "+ candiate r_t ,h_t-1의 행렬요소 곱을 위해 size를 hidden size로 맞춰주어야 한다"
   ]
  },
  {
   "cell_type": "code",
   "execution_count": null,
   "metadata": {},
   "outputs": [],
   "source": [
    "class GRU_Cell(nn.Module):\n",
    "    def __init__(self,input_size,hidden_size,bias=True):\n",
    "        super().__init__()\n",
    "        self.input_size=input_size\n",
    "        self.hidden_size=hidden_size\n",
    "        self.bias=bias\n",
    "        self.x2h=nn.Linear(input_size,hidden_size*2,bias=bias)\n",
    "        self.h2h=nn.Linear(hidden_size,hidden_size*2,bias=bias)\n",
    "        self.x2c=nn.Linear(input_size,hidden_size,bias=bias)\n",
    "        self.c2c=nn.Linear(hidden_size,hidden_size,bias=bias)\n",
    "    def forward(self,x,hidden_state):\n",
    "        # x : [batch, variable]\n",
    "        gates=self.x2h(x)+self.h2h(hidden_state)\n",
    "        update_gate,reset_gate=gates.chunk(2,dim=1)\n",
    "        candidate=torch.mul(reset_gate,hidden_state)\n",
    "        \n",
    "        \n",
    "        candidate_Hidden_state=F.tanh(self.x2c(x)+self.x2h(torch.mul(reset_gate,hidden_state)))\n",
    "        \n",
    "        hidden_state=torch.mul(update_gate,hidden_state)+torch.mul((1-update_gate),candidate_Hidden_state)\n",
    "        \n",
    "        return hidden_state\n",
    "\n",
    "        \n",
    "        "
   ]
  },
  {
   "cell_type": "code",
   "execution_count": null,
   "metadata": {},
   "outputs": [],
   "source": [
    "class GRU_Model(nn.Module):\n",
    "    def __init__(self,input_dim,hidden_dim,output_dim) :\n",
    "        super().__init__()\n",
    "        \n",
    "        self.input_dim=input_dim\n",
    "        self.hidden_dim=hidden_dim\n",
    "        self.output_dim=output_dim\n",
    "        self.GRU_Cell=GRU_Cell(input_dim,hidden_dim)\n",
    "        self.fc1=nn.Linear(hidden_dim,output_dim)\n",
    "    \n",
    "    \n",
    "    def forward(self,x):\n",
    "        # x[batch,seq,variable]\n",
    "        cyc=x.size(1)\n",
    "        hidden_state=torch.zeros(x.size(0),self.hidden_dim)\n",
    "        out=[]\n",
    "        for seq in range(cyc):\n",
    "            hidden_state=GRU_Cell(x,hidden_state)\n",
    "            out.append(hidden_state)\n",
    "        \n",
    "        out_put=out[-1] \n",
    "        out_put=self.fc1(out_put)\n",
    "        return out_put   \n",
    "    "
   ]
  }
 ],
 "metadata": {
  "kernelspec": {
   "display_name": "Python 3.9.12 ('forpytorch')",
   "language": "python",
   "name": "python3"
  },
  "language_info": {
   "name": "python",
   "version": "3.9.12"
  },
  "orig_nbformat": 4,
  "vscode": {
   "interpreter": {
    "hash": "e142c631c90029d590b66e5d4b447237bff44b182aad6284fd72863ce8560c1d"
   }
  }
 },
 "nbformat": 4,
 "nbformat_minor": 2
}
