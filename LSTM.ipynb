{
 "cells": [
  {
   "cell_type": "markdown",
   "metadata": {},
   "source": [
    "# Package Download\n"
   ]
  },
  {
   "cell_type": "code",
   "execution_count": 1,
   "metadata": {},
   "outputs": [],
   "source": [
    "import torch\n",
    "import torch.nn as nn\n",
    "import numpy as np\n",
    "import torch.nn.functional as F"
   ]
  },
  {
   "cell_type": "markdown",
   "metadata": {},
   "source": [
    "# LSTM\n",
    "<img src=\"https://user-images.githubusercontent.com/1250095/40670602-b1d0211a-63a4-11e8-9abc-a5de1f90a547.png\">\n",
    "<img src=\"https://blog.kakaocdn.net/dn/NsPUk/btqSjABi258/JseUW3yFT1RIZI4C0LxONk/img.png\">  \n",
    "\n",
    "+ LSTM_Cell\n",
    "    + input_size : input data의 size (embedding을 할 경우 embedding의 size이다)\n",
    "    + hidden_size : hidden state의 차원 수\n",
    "    + bias : 각 식의 존재하는 편향 값\n",
    "\n",
    "\n",
    "+ if x 가 m*n의 차원이면 h차원가 맞게 weight를 곱하여 m*h의 차원으로 변경한다.\n",
    "+ Weight가 x2x 4개 x2h 4개가 필요하므로 각각 한번에 4개를 만들어서 잘라서 사용\n",
    "+ 데이터 example을 시계열 데이터로 사용 [batch, sequece, variable] 3차원 데이터\n"
   ]
  },
  {
   "cell_type": "code",
   "execution_count": null,
   "metadata": {},
   "outputs": [],
   "source": [
    "\n",
    "from audioop import bias\n",
    "\n",
    "\n",
    "class LSTM_Cell(nn.Module):\n",
    "    def __init__(self,input_size,hidden_size, bias=True):\n",
    "        super().__init__()\n",
    "        self.input_size=input_size\n",
    "        self.hidden_size=hidden_size\n",
    "        self.bias= bias\n",
    "        # input gate, forget gate, out put, tanh 4개\n",
    "        self.x2h=nn.Linear(input_size,4*hidden_size,bias=bias)\n",
    "        self.h2h=nn.Linear(hidden_size,4*hidden_size,bias=bias)\n",
    "        \n",
    "    \n",
    "    def forward(self,hidden_state,cell_state,x):\n",
    "        \n",
    "        # 다 더해서 나눠버림\n",
    "        # x :[batch, variable]\n",
    "        gates=self.x2h(x)+self.h2h(x)\n",
    "        ingate, forgetgate, cellgate, outgate =gates.chunk(4,dim=1)\n",
    "        \n",
    "        ingate=F.sigmoid(ingate)\n",
    "        outgate=F.sigmoid(outgate)\n",
    "        forgetgate=F.sigmoid(forgetgate)\n",
    "        cellgate=F.tanh(cellgate)\n",
    "        \n",
    "        cell_state= torch.mul(hidden_state,forgetgate) +torch.mul(ingate,cellgate)\n",
    "        hidden_state= torch.mul(outgate,F.tanh(cell_state))\n",
    "        \n",
    "        return cell_state, hidden_state"
   ]
  },
  {
   "cell_type": "markdown",
   "metadata": {},
   "source": [
    "# LSTM Layer\n",
    "<img src=https://www.researchgate.net/publication/360097054/figure/fig5/AS:11431281080276414@1661220974865/The-structure-of-the-two-layer-LSTM-The-input-of-the-LSTM-is.png>\n",
    "\n",
    "Layer가 두개 이상일 경우\n",
    "\n",
    "hidden_state와 cell state가 2개가 존재하고 다음으로 넘어감  \n",
    "그러므로 차원을 [batch, layer, hidden_dim]으로 다음 사이클에 넘길 필요가 있음 "
   ]
  },
  {
   "cell_type": "code",
   "execution_count": null,
   "metadata": {},
   "outputs": [],
   "source": [
    "from re import L\n",
    "from tkinter import Variable\n",
    "from turtle import forward\n",
    "\n",
    "\n",
    "class LSTM_Model(nn.Module):\n",
    "    def __init__(self,input_dim,hidden_dim,output_dim,layer_num=1, bias=True) :\n",
    "        super().__init__()\n",
    "        self.hidden_dim=hidden_dim\n",
    "        self.lstm=LSTM_Cell(input_dim,hidden_dim)\n",
    "        # Layer가 2개 이상 사용했을 때 사용하는 LSTM_Cell\n",
    "        self.lstm_layer=LSTM_Cell(hidden_dim,hidden_dim)\n",
    "        self.fc=nn.Linear(hidden_dim,output_dim)\n",
    "        self.layer_num=layer_num\n",
    "    def forward(self,x):\n",
    "        # x :[batch,sequnce ,variable]\n",
    "       \n",
    "        #h0,c0 : hidden_state,cell_state 초기화 [batch,,layer,hidden_dim] \n",
    "        if torch.cuda.is_available:\n",
    "            hidden_state=Variable(torch.zeros(x.size (0),self.layer_num,self.hidden_dim).cuda())\n",
    "        else:\n",
    "            hidden_state=Variable(torch.zeros(x.size (0),self.layer_num,self.hidden_dim))\n",
    "        if torch.cuda.is_available:\n",
    "            cell_state=Variable(torch.zeros(x.size (0),self.layer_num,self.hidden_dim).cuda())\n",
    "        else:\n",
    "            cell_state=Variable(torch.zeros(x.size (0),self.layer_num,self.hidden_dim))\n",
    "        \n",
    "        outs=[]\n",
    "        \n",
    "        if self.layer_num==1:\n",
    "            hidden_state=hidden_state.squeeze()\n",
    "            cell_state=cell_state.squeeze()\n",
    "            for seq in range(x.size(1)):\n",
    "                cell_state,hidden_state = self.lstm(cell_state,hidden_state,x[:,seq,:])\n",
    "                outs.append(hidden_state)\n",
    "        else:\n",
    "            for seq in range(x.size(1)):\n",
    "                cell_state[:,0,:],hidden_state[:,0,:]=LSTM_Cell(cell_state,hidden_state,x[:,seq,:])\n",
    "                for layer in range(self.layer_num-1):\n",
    "                    cell_state[:,layer+1,:],hidden_state[:,layer+1,:]=self.lstm_layer(cell_state[:,layer+1,:],hidden_state[:,layer+1,:],hidden_state[:,layer,:])\n",
    "                outs.append(hidden_state[:,-1,:])\n",
    "                \n",
    "        \n",
    "        out =outs[-1]\n",
    "        out= self.fc(out)\n",
    "        return out\n",
    "        "
   ]
  }
 ],
 "metadata": {
  "kernelspec": {
   "display_name": "Python 3.9.12 ('forpytorch')",
   "language": "python",
   "name": "python3"
  },
  "language_info": {
   "codemirror_mode": {
    "name": "ipython",
    "version": 3
   },
   "file_extension": ".py",
   "mimetype": "text/x-python",
   "name": "python",
   "nbconvert_exporter": "python",
   "pygments_lexer": "ipython3",
   "version": "3.9.12"
  },
  "orig_nbformat": 4,
  "vscode": {
   "interpreter": {
    "hash": "e142c631c90029d590b66e5d4b447237bff44b182aad6284fd72863ce8560c1d"
   }
  }
 },
 "nbformat": 4,
 "nbformat_minor": 2
}
